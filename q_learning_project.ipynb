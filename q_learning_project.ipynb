{
 "cells": [
  {
   "cell_type": "code",
   "execution_count": 1,
   "metadata": {},
   "outputs": [],
   "source": [
    "import seaborn as sns; sns.set_theme()\n",
    "import matplotlib.pyplot as plt\n",
    "from matplotlib import colors\n",
    "import numpy as np\n",
    "import re\n",
    "from tqdm import tqdm\n",
    "\n",
    "import random\n",
    "\n",
    "from copy import deepcopy"
   ]
  },
  {
   "cell_type": "code",
   "execution_count": 2,
   "metadata": {},
   "outputs": [],
   "source": [
    "dummy_maze = [\n",
    "              [ \"\", \"\", \"\", \"\", \"\", \"\", \"\", \"\"],\n",
    "              [ \"\", \"\", \"\", \"\", \"\", \"\", \"\", \"\"],\n",
    "              [ \"#\", \"#\", \"#\", \"#\", \"#\", \"\", \"\", \"\"],\n",
    "              [ \"\", \"\", \"\", \"\", \"\", \"\", \"\", \"\"],\n",
    "              [ \"\", \"\", \"#\", \"#\", \"#\", \"#\", \"#\", \"\"],\n",
    "              [ \"\", \"\", \"#\", \"\", \"\", \"\", \"\", \"\"],\n",
    "              [ \"\", \"\", \"#\", \"\", \"#\", \"#\", \"#\", \"#\"],\n",
    "              [ \"\", \"\", \"\", \"\", \"\", \"\", \"\", \"\"],\n",
    "        ]\n",
    "\n",
    "reward_matrix = [\n",
    "          [ -1, -1, -1, -1, -1, -1, -1, -1],\n",
    "          [ -1, -1, -1, -1, -1, -1, -1, -1],\n",
    "          [ -10000, -10000, -10000, -10000, -10000, -1, -1, -1],\n",
    "          [ -1, -1, -1, -1, -1, -1, -1, -1],\n",
    "          [ -1, -1, -10000, -10000, -10000, -10000, -10000, -1],\n",
    "          [ -1, -1, -10000, -1, -1, -1, -1, -1],\n",
    "          [ -1, -1, -10000, -1, -10000, -10000, -10000, -10000],\n",
    "          [ -1, -1, -1, -1, -1, -1, -1, 0]\n",
    "        ]"
   ]
  },
  {
   "cell_type": "code",
   "execution_count": 3,
   "metadata": {},
   "outputs": [],
   "source": [
    "class MDPState:\n",
    "    def __init__(self, up, down, left, right, reward=-1):\n",
    "        self.up = up\n",
    "        self.down = down\n",
    "        self.left = left\n",
    "        self.right = right\n",
    "        self.reward = reward\n",
    "        self.q_values = ActionQValue()\n",
    "\n",
    "\n",
    "class ActionQValue:\n",
    "    def __init__(self, up=0, down=0, left=0, right=0):\n",
    "        self.up = up\n",
    "        self.down = down\n",
    "        self.left = left\n",
    "        self.right = right"
   ]
  },
  {
   "cell_type": "code",
   "execution_count": 5,
   "metadata": {},
   "outputs": [],
   "source": [
    "# number of episode we will run\n",
    "n_episodes = 10000\n",
    "\n",
    "# maximum of iteration per episode\n",
    "max_iter_episode = 100\n",
    "\n",
    "# initialize the exploration probability to 1\n",
    "exploration_proba = 1\n",
    "\n",
    "# exploration decreasing decay for exponential decreasing\n",
    "exploration_decreasing_decay = 0.001\n",
    "\n",
    "# minimum of exploration proba\n",
    "min_exploration_proba = 0.01\n",
    "\n",
    "# discounted factor\n",
    "gamma = 0.90\n",
    "\n",
    "# learning rate\n",
    "lr = 0.1\n",
    "\n",
    "start_state = (0, 0)\n",
    "end_state = (7, 7)\n",
    "# Actions\n",
    "actions = ['up', 'down', 'left', 'right']\n",
    "\n",
    "\n",
    "def get_max_action(grid, state):\n",
    "    q = []\n",
    "    for a in actions:\n",
    "        q.append(getattr(grid[state[0]][state[1]].q_values, a))\n",
    "    action = actions[q.index(max(q))]\n",
    "    return action\n",
    "\n",
    "\n",
    "def get_max_q_value(grid, state):\n",
    "    q = []\n",
    "    for a in actions:\n",
    "        q.append(getattr(grid[state[0]][state[1]].q_values, a))\n",
    "    return max(q)\n",
    "\n",
    "\n",
    "def q_learning(grid, iterations=6000):\n",
    "\n",
    "    global exploration_proba\n",
    "    rewards_per_episode = []\n",
    "    delta = []\n",
    "    for e in tqdm(range(iterations)):\n",
    "        biggest_change = 0\n",
    "        current_state = start_state\n",
    "\n",
    "        # sum the rewards that the agent gets from the environment\n",
    "        total_episode_reward = 0\n",
    "\n",
    "        for i in range(max_iter_episode):\n",
    "\n",
    "            if np.random.uniform(0, 1) < exploration_proba:\n",
    "                action = random.choice(actions)\n",
    "            else:\n",
    "                action = get_max_action(grid, current_state)\n",
    "\n",
    "            next_state = getattr(grid[current_state[0]][current_state[1]], action)\n",
    "#             reward = grid[current_state[0]][current_state[1]].reward\n",
    "            reward = reward_matrix[current_state[0]][current_state[1]]\n",
    "#             print(reward)\n",
    "            \n",
    "\n",
    "            # We update our Q-table using the Q-learning iteration\n",
    "            new_q_value = (1 - lr) * getattr(grid[current_state[0]][current_state[1]].q_values, action) + lr * (\n",
    "                    reward + gamma * get_max_q_value(grid, next_state))\n",
    "            \n",
    "            biggest_change = max(biggest_change, np.abs(getattr(grid[current_state[0]][current_state[1]].q_values, action) - new_q_value))\n",
    "            delta.append(biggest_change)\n",
    "            \n",
    "            setattr(grid[current_state[0]][current_state[1]].q_values, action, new_q_value)\n",
    "\n",
    "            total_episode_reward = total_episode_reward + reward\n",
    "            # If the episode is finished, we leave the for loop\n",
    "            if grid[next_state[0]][next_state[1]] == \"#\":\n",
    "                break\n",
    "            current_state = next_state\n",
    "        exploration_proba = max(min_exploration_proba, np.exp(-exploration_decreasing_decay * e))\n",
    "        rewards_per_episode.append(total_episode_reward)\n",
    "\n",
    "    policy = [['up' for i in range(len(grid[0]))] for j in range(len(grid))]\n",
    "    optimal_q_values = []\n",
    "    for i in range(len(grid)):\n",
    "        _values = []\n",
    "        for j in range(len(grid[i])):\n",
    "            if grid[i][j] != '#':\n",
    "                policy[i][j] = get_max_action(grid, (i, j))\n",
    "                _values.append(get_max_q_value(grid, (i, j)))\n",
    "\n",
    "            else:\n",
    "                policy[i][j] = '#'\n",
    "                _values.append(0)\n",
    "        optimal_q_values.append(_values)\n",
    "    return policy, optimal_q_values, rewards_per_episode, delta\n",
    "\n",
    "\n",
    "def maze_to_mdp(matrix):\n",
    "    \n",
    "    grid = deepcopy(matrix)\n",
    "    for i in range(0, len(matrix)):\n",
    "        for j in range(0, len(matrix)):\n",
    "            # represent walls as #\n",
    "            if matrix[i][j] == '#':\n",
    "                grid[i][j] = \"#\"\n",
    "                continue\n",
    "                \n",
    "            try:\n",
    "                if i ==0:\n",
    "                    north = (i,j)\n",
    "                elif matrix[i - 1][j] == '#':\n",
    "                    north = (i, j)\n",
    "                else:\n",
    "                    north = (i - 1, j)\n",
    "            except:\n",
    "                pass\n",
    "            \n",
    "            try:\n",
    "                if i == len(matrix)-1:\n",
    "                    south = (i,j)\n",
    "                elif matrix[i + 1][j] == '#':\n",
    "                    south = (i, j)\n",
    "                else:\n",
    "                    south = (i + 1, j)\n",
    "            except:\n",
    "                pass\n",
    "            \n",
    "            try:\n",
    "                if j == len(matrix)-1:\n",
    "                    east = (i,j)\n",
    "                elif matrix[i][j + 1] == '#':\n",
    "                    east = (i, j)\n",
    "                else:\n",
    "                    east = (i, j + 1)\n",
    "            except:\n",
    "                pass\n",
    "            \n",
    "            try:\n",
    "                if j ==0:\n",
    "                    west = (i,j)\n",
    "                elif matrix[i][j - 1] == '#':\n",
    "                    west = (i, j)\n",
    "                else:\n",
    "                    west = (i, j - 1)\n",
    "            except:\n",
    "                pass\n",
    "\n",
    "            grid[i][j] = MDPState(north, south, west, east)\n",
    "\n",
    "    # Set exit point reward\n",
    "    grid[7][7].reward = 0\n",
    "    return (grid)\n",
    "\n",
    "def get_shortest_path(policy, start, end):\n",
    "    shortest_path = [start]\n",
    "    i, j = start\n",
    "    while True:\n",
    "        action = policy[i][j]\n",
    "        if action == \"down\":\n",
    "            i += 1\n",
    "        if action == \"up\":\n",
    "            i -= 1\n",
    "        if action == \"left\":\n",
    "            j -= 1\n",
    "        if action == \"right\":\n",
    "            j += 1\n",
    "        if (i, j) == end:\n",
    "            shortest_path.append(end)\n",
    "            break\n",
    "        else:\n",
    "            shortest_path.append((i, j))\n",
    "    return shortest_path"
   ]
  },
  {
   "cell_type": "code",
   "execution_count": 58,
   "metadata": {},
   "outputs": [
    {
     "name": "stderr",
     "output_type": "stream",
     "text": [
      "100%|██████████████████████████████████████████████████████████████████████████| 10000/10000 [00:09<00:00, 1003.96it/s]\n"
     ]
    }
   ],
   "source": [
    "test_grid = maze_to_mdp(dummy_maze)\n",
    "q_learning_policy, optimal_q_values, q_learning_rewards_per_episode, delta = q_learning(test_grid, 10000)"
   ]
  },
  {
   "cell_type": "code",
   "execution_count": 7,
   "metadata": {},
   "outputs": [
    {
     "name": "stdout",
     "output_type": "stream",
     "text": [
      "Shortest path Using Q learning [(0, 0), (1, 0), (1, 1), (1, 2), (1, 3), (1, 4), (1, 5), (2, 5), (3, 5), (3, 4), (3, 3), (3, 2), (3, 1), (4, 1), (5, 1), (6, 1), (7, 1), (7, 2), (7, 3), (7, 4), (7, 5), (7, 6), (7, 7)] number of nodes present in shortest path is  23\n"
     ]
    }
   ],
   "source": [
    "q_path = get_shortest_path(q_learning_policy, (0,0), (7,7))\n",
    "print(\"Shortest path Using Q learning\", q_path, \"number of nodes present in shortest path is \", len(q_path))"
   ]
  },
  {
   "cell_type": "code",
   "execution_count": 8,
   "metadata": {},
   "outputs": [
    {
     "data": {
      "text/plain": [
       "Text(0.5, 1.0, 'Optimal values for policy iteration')"
      ]
     },
     "execution_count": 8,
     "metadata": {},
     "output_type": "execute_result"
    },
    {
     "data": {
      "image/png": "[encoded data removed]",
      "text/plain": [
       "<Figure size 720x576 with 2 Axes>"
      ]
     },
     "metadata": {},
     "output_type": "display_data"
    }
   ],
   "source": [
    "plt.rcParams[\"figure.figsize\"] = (10,8)\n",
    "plt.grid(color='r', linestyle='-', linewidth=.5)\n",
    "plt.subplot(2, 1, 1)\n",
    "sns.heatmap(optimal_q_values, cmap=\"YlGnBu\", linewidths=.5)\n",
    "plt.title(\"Optimal values for policy iteration\")"
   ]
  },
  {
   "cell_type": "code",
   "execution_count": 9,
   "metadata": {},
   "outputs": [
    {
     "data": {
      "text/plain": [
       "[['down', 'down', 'down', 'down', 'down', 'down', 'right', 'down'],\n",
       " ['right', 'right', 'right', 'right', 'right', 'down', 'down', 'down'],\n",
       " ['#', '#', '#', '#', '#', 'down', 'down', 'down'],\n",
       " ['right', 'down', 'left', 'left', 'left', 'left', 'right', 'down'],\n",
       " ['down', 'down', '#', '#', '#', '#', '#', 'down'],\n",
       " ['down', 'down', '#', 'down', 'left', 'left', 'left', 'left'],\n",
       " ['right', 'down', '#', 'down', '#', '#', '#', '#'],\n",
       " ['right', 'right', 'right', 'right', 'right', 'right', 'right', 'up']]"
      ]
     },
     "execution_count": 9,
     "metadata": {},
     "output_type": "execute_result"
    }
   ],
   "source": [
    "q_learning_policy"
   ]
  },
  {
   "cell_type": "code",
   "execution_count": 10,
   "metadata": {},
   "outputs": [],
   "source": [
    "m1 = [[0 for i in range(8)] for i in range(8)]\n",
    "\n",
    "blocked = [(2, 0), (2, 1), (2, 2), (2, 3), (2, 4), (4, 2), (4, 3), (4, 4), (4, 5), (4, 6), (5, 2), (6, 2), (6, 4), (6, 5), (6, 6), (6, 7)]\n",
    "for q in q_path:\n",
    "    m1[q[0]][q[1]]=1\n",
    "\n",
    "for b in blocked:\n",
    "    m1[b[0]][b[1]] = -1"
   ]
  },
  {
   "cell_type": "code",
   "execution_count": 11,
   "metadata": {
    "scrolled": false
   },
   "outputs": [
    {
     "data": {
      "image/png": "[encoded data removed]",
      "text/plain": [
       "<Figure size 720x576 with 2 Axes>"
      ]
     },
     "metadata": {},
     "output_type": "display_data"
    }
   ],
   "source": [
    "fig, axs = plt.subplots(figsize=(10,8))\n",
    "axs = sns.heatmap(m1, cmap=\"YlGnBu\", linewidths=.5, ax=axs)\n",
    "plt.show()"
   ]
  },
  {
   "cell_type": "code",
   "execution_count": 12,
   "metadata": {},
   "outputs": [],
   "source": [
    "m2 = [[0 for i in range(8)] for i in range(8)]\n",
    "\n",
    "blocked = [(2, 0), (2, 1), (2, 2), (2, 3), (2, 4), (4, 2), (4, 3), (4, 4), (4, 5), (4, 6), (5, 2), (6, 2), (6, 4), (6, 5), (6, 6), (6, 7)]\n",
    "# for q in q_path:\n",
    "#     m1[q[0]][q[1]]=1\n",
    "\n",
    "for b in blocked:\n",
    "    m2[b[0]][b[1]] = -10000"
   ]
  },
  {
   "cell_type": "code",
   "execution_count": 16,
   "metadata": {},
   "outputs": [
    {
     "data": {
      "image/png": "[encoded data removed]",
      "text/plain": [
       "<Figure size 720x576 with 2 Axes>"
      ]
     },
     "metadata": {},
     "output_type": "display_data"
    }
   ],
   "source": [
    "fig, axs = plt.subplots(figsize=(10,8))\n",
    "axs = sns.heatmap(m2, cmap=\"YlGnBu\", ax=axs, annot=np.array(m3), fmt=\"\")\n",
    "plt.show()"
   ]
  },
  {
   "cell_type": "code",
   "execution_count": 14,
   "metadata": {},
   "outputs": [],
   "source": [
    "m3 = q_learning_policy"
   ]
  },
  {
   "cell_type": "code",
   "execution_count": 15,
   "metadata": {},
   "outputs": [],
   "source": [
    "for i in range(len(m3)):\n",
    "    for j in range(len(m3)):\n",
    "        if m3[i][j]==\"down\":\n",
    "            m3[i][j]=\"D\"\n",
    "        elif m3[i][j]==\"up\":\n",
    "            m3[i][j]=\"Goal\"\n",
    "        elif m3[i][j]==\"right\":\n",
    "            m3[i][j]=\"R\"\n",
    "        elif m3[i][j]==\"left\":\n",
    "            m3[i][j]=\"L\"\n",
    "        else:\n",
    "            m3[i][j]=\"Wall\""
   ]
  },
  {
   "cell_type": "code",
   "execution_count": 68,
   "metadata": {},
   "outputs": [],
   "source": [
    "from sklearn import preprocessing\n",
    "q_delta_norm = preprocessing.normalize([delta])"
   ]
  },
  {
   "cell_type": "code",
   "execution_count": 69,
   "metadata": {},
   "outputs": [],
   "source": [
    "n=100\n",
    "q_delta_rew = [sum(q_delta_norm[0][i:i+25*n])/25*n for i in range(0,len(q_delta_norm[0]),25*n)]"
   ]
  },
  {
   "cell_type": "code",
   "execution_count": 70,
   "metadata": {},
   "outputs": [
    {
     "data": {
      "image/png": "[encoded data removed]",
      "text/plain": [
       "<Figure size 504x432 with 1 Axes>"
      ]
     },
     "metadata": {},
     "output_type": "display_data"
    }
   ],
   "source": [
    "fig, ax1 = plt.subplots(ncols=1, figsize=(7,6))\n",
    "ax1.plot(q_delta_rew)\n",
    "ax1.set_xlabel(\"Iterations\")\n",
    "ax1.set_ylabel(\"Delta\")\n",
    "ax1.set_title(\"Q Learning\")\n",
    "ax1.grid(False)\n",
    "ax.set_facecolor('white')\n",
    "# ax.set_axis_bgcolor('white')\n",
    "plt.show()"
   ]
  },
  {
   "cell_type": "code",
   "execution_count": null,
   "metadata": {},
   "outputs": [],
   "source": []
  },
  {
   "cell_type": "code",
   "execution_count": 71,
   "metadata": {},
   "outputs": [],
   "source": [
    "pd.DataFrame(q_delta_rew).to_csv(\"qdelta.csv\")"
   ]
  },
  {
   "cell_type": "code",
   "execution_count": null,
   "metadata": {},
   "outputs": [],
   "source": []
  }
 ],
 "metadata": {
  "kernelspec": {
   "display_name": "Python 3",
   "language": "python",
   "name": "python3"
  },
  "language_info": {
   "codemirror_mode": {
    "name": "ipython",
    "version": 3
   },
   "file_extension": ".py",
   "mimetype": "text/x-python",
   "name": "python",
   "nbconvert_exporter": "python",
   "pygments_lexer": "ipython3",
   "version": "3.8.5"
  }
 },
 "nbformat": 4,
 "nbformat_minor": 4
}
