{
 "cells": [
  {
   "cell_type": "code",
   "execution_count": 1,
   "metadata": {
    "id": "4PbWUSbwXaMw"
   },
   "outputs": [],
   "source": [
    "from __future__ import print_function, division\n",
    "from builtins import range\n",
    "import numpy as np\n",
    "import matplotlib.pyplot as plt\n",
    "from tqdm.notebook import tqdm\n",
    "from collections import defaultdict\n",
    "import pandas as pd\n",
    "from pandas import DataFrame\n",
    "import seaborn as sns\n",
    "import random\n",
    "\n",
    "random.seed(30)"
   ]
  },
  {
   "cell_type": "code",
   "execution_count": 2,
   "metadata": {
    "colab": {
     "base_uri": "https://localhost:8080/"
    },
    "id": "hrkaP8qWLWiW",
    "outputId": "12847f9f-d71f-46b9-b061-55d988284323"
   },
   "outputs": [],
   "source": [
    "# from google.colab import drive\n",
    "# drive.mount('/content/drive')\n",
    "# %cd /content/drive/Shareddrives/CMPE-252"
   ]
  },
  {
   "cell_type": "code",
   "execution_count": 3,
   "metadata": {
    "id": "GUwLmeByXypK"
   },
   "outputs": [],
   "source": [
    "CONST_GAMMA = 0.9\n",
    "CONST_ACTION_LST = ('U','D','L','R')\n",
    "CONST_N_EPISODES = 50000\n",
    "CONST_EPSILON = 0.9"
   ]
  },
  {
   "cell_type": "code",
   "execution_count": 4,
   "metadata": {
    "id": "-8I0-f35StGt"
   },
   "outputs": [],
   "source": [
    "# original_maze = np.array([\n",
    "#   [ 1., 1., 1., 1., 1., 1., 1., 1000.],\n",
    "#   [ 0., 0., 0., 0., 0., 0., 1., -1000.],\n",
    "#   [ 1., 1., 1., 1., 1., 1., 1., 1.],\n",
    "#   [ 1., 1., 1., 1., 1., 1., 1., 1.],\n",
    "#   [ 1., 0., 0., 0., 0., 0., 0., 1.],\n",
    "#   [ 1., 0., 1., 1., 1., 1., 1., 1.],\n",
    "#   [ 1., 0., 1., 0., 0., 0., 0., 1.],\n",
    "#   [ 1., 1., 1., 1., 1., 1., 1., 1.],\n",
    "# ])"
   ]
  },
  {
   "cell_type": "code",
   "execution_count": 5,
   "metadata": {
    "id": "WcngbnF8eFf7"
   },
   "outputs": [],
   "source": [
    "## LAYOUT OF THE GRID"
   ]
  },
  {
   "cell_type": "markdown",
   "metadata": {
    "id": "3fU7xLmMeIgb"
   },
   "source": [
    "![image.png](data:image/png;base64,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)"
   ]
  },
  {
   "cell_type": "code",
   "execution_count": 6,
   "metadata": {
    "id": "8PPaBre9M9ZM"
   },
   "outputs": [],
   "source": [
    "path = -1.\n",
    "wall = -10000.\n",
    "pend = 0.\n",
    "# nend = -1000.\n",
    "start = (0,0)\n",
    "goal = (7,7)\n",
    "\n",
    "# original_maze = np.array([\n",
    "#   [ path, path, path, path, pend],\n",
    "#   [ path, path, path, path, path],\n",
    "#   [ wall, wall, wall, path, path],\n",
    "#   [ path, path, path, path, path],\n",
    "#   [ path, path, path, path, path],\n",
    "# ])\n"
   ]
  },
  {
   "cell_type": "code",
   "execution_count": 7,
   "metadata": {
    "id": "xPSWbhMJ9E8g"
   },
   "outputs": [],
   "source": [
    "original_maze = np.array([\n",
    "  [ path, path, path, path, path, path, path, path],\n",
    "  [ path, path, path, path, path, path, path, path],\n",
    "  [ wall, wall, wall, wall, wall, path, path, path],\n",
    "  [ path, path, path, path, path, path, path, path],\n",
    "  [ path, path, wall, wall, wall, wall, wall, path],\n",
    "  [ path, path, wall, path, path, path, path, path],\n",
    "  [ path, path, wall, path, wall, wall, wall, wall],\n",
    "  [ path, path, path, path, path, path, path, pend],\n",
    "])"
   ]
  },
  {
   "cell_type": "code",
   "execution_count": 8,
   "metadata": {
    "colab": {
     "base_uri": "https://localhost:8080/"
    },
    "id": "rlv8C1vhbJFK",
    "outputId": "9b2e163c-0938-4411-8416-0808efa9547e"
   },
   "outputs": [
    {
     "name": "stdout",
     "output_type": "stream",
     "text": [
      "[(7, 7)]\n"
     ]
    }
   ],
   "source": [
    "nrows, ncols = original_maze.shape\n",
    "\n",
    "free_cells = [(r,c) for r in range(nrows) for c in range(ncols) if original_maze[(r,c)] == path]\n",
    "blocked_cells = [(r,c) for r in range(nrows) for c in range(ncols) if original_maze[(r,c)] == wall]\n",
    "\n",
    "terminal_states = [(r,c) for r in range(nrows) for c in range(ncols) if original_maze[(r,c)] != path and original_maze[(r,c)] != wall]\n",
    "\n",
    "# actions  = {curr_cell : (possible actions)}\n",
    "actions = defaultdict(list)\n",
    "\n",
    "for i,j in free_cells:\n",
    "    if j-1 >= 0 and (i,j-1) not in blocked_cells:    actions[(i,j)].append('L')\n",
    "    if j+1 < ncols and (i,j+1) not in blocked_cells:  actions[(i,j)].append('R')\n",
    "    if i-1 >= 0 and (i-1,j) not in blocked_cells: actions[(i,j)].append('U')\n",
    "    if i+1 < nrows and (i+1,j) not in blocked_cells:    actions[(i,j)].append('D')\n",
    "\n",
    "rewards = {cells: path for cells in free_cells}\n",
    "rewards.update({cells: wall for cells in blocked_cells})\n",
    "rewards.update({goal: pend})\n",
    "print(terminal_states)\n"
   ]
  },
  {
   "cell_type": "code",
   "execution_count": 9,
   "metadata": {
    "colab": {
     "base_uri": "https://localhost:8080/"
    },
    "id": "8Bt0O_0N_zyJ",
    "outputId": "5ef21edd-59e7-489c-fa93-2fab827ea172"
   },
   "outputs": [
    {
     "name": "stdout",
     "output_type": "stream",
     "text": [
      "free_cells \t [(0, 0), (0, 1), (0, 2), (0, 3), (0, 4), (0, 5), (0, 6), (0, 7), (1, 0), (1, 1), (1, 2), (1, 3), (1, 4), (1, 5), (1, 6), (1, 7), (2, 5), (2, 6), (2, 7), (3, 0), (3, 1), (3, 2), (3, 3), (3, 4), (3, 5), (3, 6), (3, 7), (4, 0), (4, 1), (4, 7), (5, 0), (5, 1), (5, 3), (5, 4), (5, 5), (5, 6), (5, 7), (6, 0), (6, 1), (6, 3), (7, 0), (7, 1), (7, 2), (7, 3), (7, 4), (7, 5), (7, 6)]\n",
      "blocked cells \t [(2, 0), (2, 1), (2, 2), (2, 3), (2, 4), (4, 2), (4, 3), (4, 4), (4, 5), (4, 6), (5, 2), (6, 2), (6, 4), (6, 5), (6, 6), (6, 7)]\n"
     ]
    }
   ],
   "source": [
    "print(\"free_cells \\t\", free_cells)\n",
    "print(\"blocked cells \\t\", blocked_cells)"
   ]
  },
  {
   "cell_type": "code",
   "execution_count": 10,
   "metadata": {
    "id": "3B1CqH51SkE0"
   },
   "outputs": [],
   "source": [
    " class Grid: # Environment\n",
    "  def __init__(self, width, height, start):\n",
    "    # i is vertical axis, j is horizontal\n",
    "    self.width = width\n",
    "    self.height = height\n",
    "    self.i = start[0]\n",
    "    self.j = start[1]\n",
    "\n",
    "  def set(self, rewards, actions, terminal_states, obey_prob):\n",
    "    # rewards should be a dict of: (i, j): r (row, col): reward\n",
    "    # actions should be a dict of: (i, j): A (row, col): list of possible actions\n",
    "    self.rewards = rewards\n",
    "    self.actions = actions\n",
    "    self.obey_prob = obey_prob\n",
    "    self.terminal_states = terminal_states\n",
    "\n",
    "  def non_terminal_states(self):\n",
    "    return self.actions.keys()\n",
    "\n",
    "  def set_state(self, s):\n",
    "    self.i = s[0]\n",
    "    self.j = s[1]\n",
    "\n",
    "  def current_state(self):\n",
    "    return (self.i, self.j)\n",
    "\n",
    "  def is_terminal(self, s):\n",
    "    return s in self.terminal_states\n",
    "\n",
    "  def stochastic_move(self, action):\n",
    "    p = np.random.random()\n",
    "    if p <= self.obey_prob:\n",
    "      return action\n",
    "    if action == 'U' or action == 'D':\n",
    "      return np.random.choice(['L', 'R'])\n",
    "    elif action == 'L' or action == 'R':\n",
    "      return np.random.choice(['U', 'D'])\n",
    "\n",
    "  def move(self, action):\n",
    "    actual_action = self.stochastic_move(action)\n",
    "    if actual_action in self.actions[(self.i, self.j)]:\n",
    "      if actual_action == 'U':\n",
    "        self.i -= 1\n",
    "      elif actual_action == 'D':\n",
    "        self.i += 1\n",
    "      elif actual_action == 'R':\n",
    "        self.j += 1\n",
    "      elif actual_action == 'L':\n",
    "        self.j -= 1\n",
    "    return self.rewards.get((self.i, self.j), 0)\n",
    "\n",
    "  def check_move(self, action):\n",
    "    i = self.i\n",
    "    j = self.j\n",
    "    # check if legal move first\n",
    "    if action in self.actions[(self.i, self.j)]:\n",
    "      if action == 'U':\n",
    "        i -= 1\n",
    "      elif action == 'D':\n",
    "        i += 1\n",
    "      elif action == 'R':\n",
    "        j += 1\n",
    "      elif action == 'L':\n",
    "        j -= 1\n",
    "    # return a reward (if any)\n",
    "    reward = self.rewards.get((i, j), 0)\n",
    "    return ((i, j), reward)\n",
    "\n",
    "  def get_transition_probs(self, action):\n",
    "    # returns a list of (probability, reward, s') transition tuples\n",
    "    probs = []\n",
    "    state, reward = self.check_move(action)\n",
    "    probs.append((self.obey_prob, reward, state))\n",
    "    disobey_prob = 1 - self.obey_prob\n",
    "    if not (disobey_prob > 0.0):\n",
    "      return probs\n",
    "    if action == 'U' or action == 'D':\n",
    "      state, reward = self.check_move('L')\n",
    "      probs.append((disobey_prob / 2, reward, state))\n",
    "      state, reward = self.check_move('R')\n",
    "      probs.append((disobey_prob / 2, reward, state))\n",
    "    elif action == 'L' or action == 'R':\n",
    "      state, reward = self.check_move('U')\n",
    "      probs.append((disobey_prob / 2, reward, state))\n",
    "      state, reward = self.check_move('D')\n",
    "      probs.append((disobey_prob / 2, reward, state))\n",
    "    return probs\n",
    "\n",
    "  def game_over(self):\n",
    "    # returns true if game is over, else false\n",
    "    # true if we are in a state where no actions are possible\n",
    "    return (self.i, self.j) in terminal_states\n",
    "\n",
    "  def all_states(self):\n",
    "    # possibly buggy but simple way to get all states\n",
    "    # either a position that has possible next actions\n",
    "    # or a position that yields a reward\n",
    "    return set(self.actions.keys()) | set(self.rewards.keys())\n"
   ]
  },
  {
   "cell_type": "code",
   "execution_count": 11,
   "metadata": {
    "id": "r8L8fKDEXjV6"
   },
   "outputs": [],
   "source": [
    "def standard_grid(obey_prob=1, step_cost=None):\n",
    "  # define a grid that describes the reward for arriving at each state\n",
    "  # and possible actions at each state\n",
    "  # the grid looks like this\n",
    "  # x means you can't go there\n",
    "  # s means start position\n",
    "  # number means reward at that state\n",
    "  # .  .  .  1\n",
    "  # .  x  . -1\n",
    "  # s  .  .  .\n",
    "  # obey_brob (float): the probability of obeying the command\n",
    "  # step_cost (float): a penalty applied each step to minimize the number of moves (-0.1)\n",
    "\n",
    "  g = Grid(nrows, ncols, start)  \n",
    "\n",
    "  g.set(rewards, actions, terminal_states, obey_prob)\n",
    "  if step_cost is not None:\n",
    "      for r,c in free_cells: g.rewards[(r,c)] = step_cost\n",
    "\n",
    "  return g"
   ]
  },
  {
   "cell_type": "code",
   "execution_count": 12,
   "metadata": {
    "id": "EmTr6-TDS0hV"
   },
   "outputs": [],
   "source": [
    "def print_values(V, g):\n",
    "  for i in range(g.width):\n",
    "    print(\"----------------------------------------\")\n",
    "    for j in range(g.height):\n",
    "      v = V.get((i,j), 0)\n",
    "      if v >= 0:\n",
    "        print(\" %.2f|\" % v, end=\"\")\n",
    "      else:\n",
    "        print(\"%.2f|\" % v, end=\"\") # -ve sign takes up an extra space\n",
    "    print(\"\")\n",
    "\n",
    "def print_policy(P, g):\n",
    "  for i in range(g.width):\n",
    "    print(\"----------------------------------------\")\n",
    "    for j in range(g.height):\n",
    "      a = P.get((i,j), ' ')\n",
    "      print(\"  %s  |\" % a, end=\"\")  \n",
    "    print(\"\")\n",
    "\n",
    "def max_dict(d):\n",
    "  # returns the argmax (key) and max (value) from a dictionary\n",
    "  # put this into a function since we are using it so often\n",
    "  max_key = None\n",
    "  max_val = float('-inf')\n",
    "  for k, v in d.items():\n",
    "    if v > max_val:\n",
    "      max_val = v\n",
    "      max_key = k\n",
    "  return max_key, max_val"
   ]
  },
  {
   "cell_type": "code",
   "execution_count": 13,
   "metadata": {
    "id": "uNDxD8yISp61"
   },
   "outputs": [],
   "source": [
    "def epsilon_action(a,eps = 0.1):\n",
    "    \"\"\" \n",
    "    epsilon greedy. Chooses either action a or an radom action with epsioln probablility\n",
    "    Args: None\n",
    "    Return: None\n",
    "    \"\"\"\n",
    "    rand_number = np.random.random()\n",
    "    if rand_number < (1-eps):\n",
    "        return a\n",
    "    else:\n",
    "        return np.random.choice(CONST_ACTION_LST)\n",
    "\n",
    "def play_a_game(grid,policy):\n",
    "    \"\"\" \n",
    "    Function for playing a gridworld game\n",
    "    Args: grid: the grid world object, policy: the current policy matrix \n",
    "    Return: statematrix, actions and gain (s,a,g)\n",
    "    Examples: \n",
    "        states_actions_returns = play_game(grid, policy) \n",
    "        for s, a, G in states_actions_returns:\n",
    "    \"\"\"\n",
    "    #set to the start state.\n",
    "    s = start\n",
    "    grid.set_state(s)\n",
    "    a = epsilon_action(policy[s], CONST_EPSILON) #choose an action epsilon greedy\n",
    "\n",
    "    #play till game over. g is always one step behind\n",
    "    states_actions_rewards = [(s, a, 0)]\n",
    "    \n",
    "    while True:\n",
    "        r = grid.move(a)\n",
    "        s = grid.current_state()\n",
    "        if grid.game_over():\n",
    "            states_actions_rewards.append((s, None, r))\n",
    "            break\n",
    "        else:\n",
    "            a = epsilon_action(policy[s], CONST_EPSILON)\n",
    "            states_actions_rewards.append((s, a, r)) \n",
    "        # print(states_actions_rewards)   \n",
    "\n",
    "    #caluculate the gains by working backwards form the terminal state\n",
    "    G = 0\n",
    "    state_action_gain = []\n",
    "    first = True\n",
    "    for s,a,r in reversed(states_actions_rewards):\n",
    "        if first:\n",
    "            first = False\n",
    "        else:\n",
    "            state_action_gain.append((s,a,G))\n",
    "        G = r + CONST_GAMMA*G\n",
    "    state_action_gain.reverse() #the loop above reverses the order\n",
    "    return state_action_gain\n",
    "\n",
    "\n",
    "def monte_carlo(grid):\n",
    "    \"\"\" \n",
    "    Functions runs games and updates the value function monte carlo style\n",
    "    Args: grid: The grid world\n",
    "    Return: Value gunction, Policy fuction, Delta list\n",
    "    \"\"\"\n",
    "    #Create a random policy\n",
    "    policy = {}\n",
    "    for s in grid.actions.keys():\n",
    "        policy[s] = np.random.choice(CONST_ACTION_LST)\n",
    "    \n",
    "    #Init Q(s,a) function and return\n",
    "    Q = {}\n",
    "    returns =  {}\n",
    "    for s in grid.non_terminal_states():\n",
    "        Q[s] = {}\n",
    "        for a in CONST_ACTION_LST:\n",
    "            Q[s][a] = 0\n",
    "            returns[(s,a)] = []\n",
    "    \n",
    "    # protocol changes of the Q values in each episode\n",
    "    deltas = []\n",
    "    accumulated_rewards = []\n",
    "    # run the monte carlo approimation for a specified amount of times\n",
    "    for t in tqdm(range(CONST_N_EPISODES)):\n",
    "        rewards = 0\n",
    "        biggest_change = 0\n",
    "        states_actions_returns = play_a_game(grid, policy)\n",
    "\n",
    "        # calculate Q(s,a)\n",
    "        seen_state_action_pairs = set()\n",
    "        for s, a, G in states_actions_returns:\n",
    "        # check if we have already seen, otherwise skip (first-visit insead of every visit)\n",
    "            sa = (s, a)\n",
    "            rewards += G\n",
    "            if sa not in seen_state_action_pairs:\n",
    "                returns[sa].append(G)\n",
    "                old_q = Q[s][a]\n",
    "                Q[s][a] = np.mean(returns[sa])\n",
    "                biggest_change = max(biggest_change, np.abs(old_q - Q[s][a]))\n",
    "                seen_state_action_pairs.add(sa)\n",
    "            deltas.append(biggest_change)\n",
    "        accumulated_rewards.append(rewards)\n",
    "        # calculate new policy p[s] = argmax[a]{Q(s,a)}\n",
    "        for s in policy.keys():\n",
    "            a, _ = max_dict(Q[s])\n",
    "            policy[s] = a\n",
    "    \n",
    "    # calculate values for each state (just to print and compare)\n",
    "    # V(s) = max[a]{ Q(s,a) }\n",
    "    V = {}\n",
    "    for s in policy.keys():\n",
    "        V[s] = max_dict(Q[s])[1] #this function was givin by utils and is basically argmax for a python dict\n",
    "    \n",
    "    return V, policy, deltas, accumulated_rewards"
   ]
  },
  {
   "cell_type": "code",
   "execution_count": 14,
   "metadata": {
    "colab": {
     "base_uri": "https://localhost:8080/",
     "height": 882,
     "referenced_widgets": [
      "772d4d70207748faa66b3d514ec9b5f2",
      "abd517306c6442c9840a69419a64e4bf",
      "80cef0ad213d4a1ab99f420132731ee7",
      "19e52c39d1b24916833eb2693f09b750",
      "229c973e868d497fa33091df98ebae0b",
      "3f420f985e804739b5a49d549624196a",
      "436351fe82994feea7e4854bbb2b9816",
      "9ff422421afe4b139090d06a4958ced0",
      "a7260544a54043ce8f42b4b0c430db4e",
      "0d54edd04fc14d94b3aadffe58036017",
      "4ece6bc4628c46458ca0121f30e2fa0c"
     ]
    },
    "id": "N4IV27UIX2xY",
    "outputId": "71d7ce44-8720-4323-bb27-755dd901c724"
   },
   "outputs": [
    {
     "name": "stdout",
     "output_type": "stream",
     "text": [
      "----------------------------------------\n",
      "-1.00|-1.00|-1.00|-1.00|-1.00|-1.00|-1.00|-1.00|\n",
      "----------------------------------------\n",
      "-1.00|-1.00|-1.00|-1.00|-1.00|-1.00|-1.00|-1.00|\n",
      "----------------------------------------\n",
      "-10000.00|-10000.00|-10000.00|-10000.00|-10000.00|-1.00|-1.00|-1.00|\n",
      "----------------------------------------\n",
      "-1.00|-1.00|-1.00|-1.00|-1.00|-1.00|-1.00|-1.00|\n",
      "----------------------------------------\n",
      "-1.00|-1.00|-10000.00|-10000.00|-10000.00|-10000.00|-10000.00|-1.00|\n",
      "----------------------------------------\n",
      "-1.00|-1.00|-10000.00|-1.00|-1.00|-1.00|-1.00|-1.00|\n",
      "----------------------------------------\n",
      "-1.00|-1.00|-10000.00|-1.00|-10000.00|-10000.00|-10000.00|-10000.00|\n",
      "----------------------------------------\n",
      "-1.00|-1.00|-1.00|-1.00|-1.00|-1.00|-1.00| 0.00|\n"
     ]
    },
    {
     "data": {
      "application/vnd.jupyter.widget-view+json": {
       "model_id": "408774e1886d4eac8b4ac1ea01bd1427",
       "version_major": 2,
       "version_minor": 0
      },
      "text/plain": [
       "  0%|          | 0/50000 [00:00<?, ?it/s]"
      ]
     },
     "metadata": {},
     "output_type": "display_data"
    },
    {
     "name": "stdout",
     "output_type": "stream",
     "text": [
      "----------------------------------------\n",
      "-10.00|-10.00|-10.00|-10.00|-10.00|-10.00|-9.99|-9.99|\n",
      "----------------------------------------\n",
      "-10.00|-10.00|-10.00|-10.00|-10.00|-9.99|-9.99|-9.99|\n",
      "----------------------------------------\n",
      " 0.00| 0.00| 0.00| 0.00| 0.00|-9.99|-9.99|-9.98|\n",
      "----------------------------------------\n",
      "-9.92|-9.92|-9.95|-9.97|-9.98|-9.99|-9.98|-9.96|\n",
      "----------------------------------------\n",
      "-9.88|-9.87| 0.00| 0.00| 0.00| 0.00| 0.00|-9.93|\n",
      "----------------------------------------\n",
      "-9.83|-9.78| 0.00|-9.24|-9.53|-9.71|-9.82|-9.89|\n",
      "----------------------------------------\n",
      "-9.75|-9.61| 0.00|-8.78| 0.00| 0.00| 0.00| 0.00|\n",
      "----------------------------------------\n",
      "-9.61|-9.27|-8.77|-7.72|-6.19|-3.78| 0.00| 0.00|\n",
      "----------------------------------------\n",
      "  R  |  R  |  R  |  R  |  R  |  D  |  D  |  D  |\n",
      "----------------------------------------\n",
      "  R  |  R  |  R  |  R  |  R  |  D  |  D  |  D  |\n",
      "----------------------------------------\n",
      "     |     |     |     |     |  D  |  D  |  D  |\n",
      "----------------------------------------\n",
      "  D  |  D  |  L  |  L  |  L  |  L  |  R  |  D  |\n",
      "----------------------------------------\n",
      "  D  |  D  |     |     |     |     |     |  D  |\n",
      "----------------------------------------\n",
      "  D  |  D  |     |  D  |  L  |  L  |  L  |  L  |\n",
      "----------------------------------------\n",
      "  D  |  D  |     |  D  |     |     |     |     |\n",
      "----------------------------------------\n",
      "  R  |  R  |  R  |  R  |  R  |  R  |  R  |     |\n"
     ]
    }
   ],
   "source": [
    "\n",
    "grid = standard_grid(obey_prob=1,step_cost=None)\n",
    "print_values(grid.rewards, grid)\n",
    "V, Policy, Deltas, accumulated_rewards = monte_carlo(grid)\n",
    "print_values(V,grid)\n",
    "print_policy(Policy,grid)"
   ]
  },
  {
   "cell_type": "code",
   "execution_count": 15,
   "metadata": {
    "colab": {
     "base_uri": "https://localhost:8080/",
     "height": 586
    },
    "id": "n16ip2PDVzhe",
    "outputId": "15c6014e-f0ee-488d-fcec-a50b687cbb16"
   },
   "outputs": [
    {
     "name": "stderr",
     "output_type": "stream",
     "text": [
      "/usr/local/lib/python3.9/site-packages/numpy/core/fromnumeric.py:3440: RuntimeWarning: Mean of empty slice.\n",
      "  return _methods._mean(a, axis=axis, dtype=dtype,\n",
      "/usr/local/lib/python3.9/site-packages/numpy/core/_methods.py:189: RuntimeWarning: invalid value encountered in double_scalars\n",
      "  ret = ret.dtype.type(ret / rcount)\n"
     ]
    },
    {
     "data": {
      "image/png": "[encoded data removed]",
      "text/plain": [
       "<Figure size 720x576 with 1 Axes>"
      ]
     },
     "metadata": {
      "needs_background": "light"
     },
     "output_type": "display_data"
    }
   ],
   "source": [
    "acc_df = pd.DataFrame(accumulated_rewards, columns=['accumulated_rewards'])\n",
    "acc_df.to_csv('mcts_accumulated_rewards.csv',index=False)\n",
    "\n",
    "rew = [np.mean(accumulated_rewards[1000*i:1000*(i+1)]) for i in range(CONST_N_EPISODES)]\n",
    "fig, ax = plt.subplots(figsize=(10,8))\n",
    "plt.plot(rew)\n",
    "ax.set(xlabel='Episodes', ylabel='Accumulated Rewards per Training Episode')\n",
    "plt.show() "
   ]
  },
  {
   "cell_type": "code",
   "execution_count": 16,
   "metadata": {
    "colab": {
     "base_uri": "https://localhost:8080/",
     "height": 497
    },
    "id": "Yke4YqZ2Zg7T",
    "outputId": "467a9bfb-a792-4bae-8b55-88d38cc24b7c"
   },
   "outputs": [
    {
     "data": {
      "image/png": "[encoded data removed]",
      "text/plain": [
       "<Figure size 720x576 with 1 Axes>"
      ]
     },
     "metadata": {
      "needs_background": "light"
     },
     "output_type": "display_data"
    }
   ],
   "source": [
    "# rew = [np.mean(accumulated_rewards[1000*i:1000*(i+1)]) for i in range(CONST_N_EPISODES)]\n",
    "df = pd.DataFrame(Deltas, columns=['accumulated_rewards'])\n",
    "df.to_csv('mcts_delta.csv',index=False)\n",
    "# from google.colab import files\n",
    "# files.download('mcts_delta.csv')\n",
    "\n",
    "\n",
    "fig, ax = plt.subplots(figsize=(10,8))\n",
    "plt.plot(Deltas)\n",
    "ax.set(xlabel='Episodes', ylabel='Accumulated Rewards per Training Episode')\n",
    "plt.show() "
   ]
  },
  {
   "cell_type": "code",
   "execution_count": 17,
   "metadata": {
    "id": "z8mIBPmQ6IbP"
   },
   "outputs": [],
   "source": [
    "# V[(1,4)] = -1000\n",
    "V[goal] = pend\n",
    "\n",
    "def visualize_path(state_values, visited, policy):\n",
    "    # def optimal_path_():\n",
    "    path = np.empty(shape=(nrows, ncols))\n",
    "\n",
    "    for i in range(nrows):\n",
    "        for j in range(ncols):\n",
    "            if (i,j) in visited:\n",
    "                path[(i,j)] = 1\n",
    "            elif (i,j) in blocked_cells:\n",
    "                path[(i,j)] = -1\n",
    "            else:\n",
    "                path[(i,j)] = 0\n",
    "\n",
    "    fig, axs = plt.subplots(figsize=(10,8))\n",
    "    axs = sns.heatmap(path, cmap=\"YlGnBu\", linewidths=.5, ax=axs)\n",
    "    plt.show()\n",
    "\n",
    "\n",
    "def visualize_values(V, policy):\n",
    "    node_x = [0]*nrows\n",
    "    node_y = [0]*ncols\n",
    "    policy_2d = [[ ' ' for i in range(nrows) ] for j in range(nrows)]\n",
    "    V_2d = [[ ' ' for i in range(ncols) ] for j in range(ncols)]\n",
    "    for x in range(0,nrows,1):\n",
    "        node_x[x] = x\n",
    "        node_y[x] = x\n",
    "        for y in range(0,ncols,1):\n",
    "            if (x, y) == goal:\n",
    "                V_2d[x][y] = pend\n",
    "                policy_2d[x][y] = 'Goal'\n",
    "            # elif (x, y) == (1,4):\n",
    "            #     V_2d[x][y] = nend\n",
    "            #     policy_2d[x][y] = 'Goal'\n",
    "            elif (x,y) not in policy.keys():\n",
    "                policy_2d[x][y] = 'Wall'\n",
    "                V_2d[x][y] = wall\n",
    "            else:\n",
    "                policy_2d[x][y] = policy[(x, y)]\n",
    "                V_2d[x][y] = V[(x, y)]\n",
    "\n",
    "    plot_direction_df = DataFrame(V_2d, index=node_x, columns=node_y)\n",
    "    \n",
    "    fig, ax1 = plt.subplots(figsize=(15,10))\n",
    "    ax1 = sns.heatmap(plot_direction_df, annot=policy_2d, fmt=\"\", cmap = \"YlGnBu\")\n",
    "    plt.show()\n",
    "    \n",
    "    fig, ax2 = plt.subplots(figsize=(15,10))\n",
    "    ax2 = sns.heatmap(plot_direction_df, annot=True, fmt=\".4f\", cmap = \"YlGnBu\")\n",
    "    plt.show()\n",
    "\n",
    "\n",
    "def visualize(state_values, policy):\n",
    "\n",
    "    visited = [start]\n",
    "    for curr_cell_ in visited:\n",
    "        i, j = curr_cell_ \n",
    "        temp = {}\n",
    "        if ((i+1,j) in free_cells or (i+1,j) in terminal_states) and (i+1,j) not in visited: \n",
    "            temp[(i+1, j)] = state_values[(i+1,j)]\n",
    "\n",
    "        if ((i-1,j) in free_cells or (i-1,j) in terminal_states) and (i-1,j) not in visited:\n",
    "            temp[(i-1, j)] = state_values[(i-1,j)]\n",
    "\n",
    "        if ((i,j+1) in free_cells or (i,j+1) in terminal_states) and (i,j+1) not in visited:\n",
    "            temp[(i, j+1)] = state_values[(i,j+1)]\n",
    "\n",
    "        if ((i,j-1) in free_cells or (i,j-1) in terminal_states) and (i,j-1) not in visited:\n",
    "            temp[(i, j-1)] = state_values[(i,j-1)]\n",
    "\n",
    "        temp_max = max(list(temp.values()))\n",
    "\n",
    "        for x,y in temp.items():\n",
    "            if y == temp_max:     next_cell_ = x\n",
    "\n",
    "        visited.append(next_cell_)\n",
    "        if next_cell_ == goal:     break    \n",
    "\n",
    "    visualize_path(state_values, visited, policy)\n",
    "    visualize_values(state_values, policy)\n",
    "\n",
    "    return visited"
   ]
  },
  {
   "cell_type": "code",
   "execution_count": 18,
   "metadata": {
    "colab": {
     "base_uri": "https://localhost:8080/",
     "height": 1000
    },
    "id": "mjNHV_QL6IbR",
    "outputId": "8f78e255-d57f-4410-c963-02b79acea339"
   },
   "outputs": [
    {
     "data": {
      "image/png": "[encoded data removed]",
      "text/plain": [
       "<Figure size 720x576 with 2 Axes>"
      ]
     },
     "metadata": {
      "needs_background": "light"
     },
     "output_type": "display_data"
    },
    {
     "data": {
      "image/png": "[encoded data removed]",
      "text/plain": [
       "<Figure size 1080x720 with 2 Axes>"
      ]
     },
     "metadata": {
      "needs_background": "light"
     },
     "output_type": "display_data"
    },
    {
     "data": {
      "image/png": "[encoded data removed]",
      "text/plain": [
       "<Figure size 1080x720 with 2 Axes>"
      ]
     },
     "metadata": {
      "needs_background": "light"
     },
     "output_type": "display_data"
    },
    {
     "data": {
      "text/plain": [
       "[(0, 0),\n",
       " (0, 1),\n",
       " (0, 2),\n",
       " (0, 3),\n",
       " (0, 4),\n",
       " (1, 4),\n",
       " (1, 5),\n",
       " (2, 5),\n",
       " (3, 5),\n",
       " (3, 6),\n",
       " (3, 7),\n",
       " (4, 7),\n",
       " (5, 7),\n",
       " (5, 6),\n",
       " (5, 5),\n",
       " (5, 4),\n",
       " (5, 3),\n",
       " (6, 3),\n",
       " (7, 3),\n",
       " (7, 4),\n",
       " (7, 5),\n",
       " (7, 6),\n",
       " (7, 7)]"
      ]
     },
     "execution_count": 18,
     "metadata": {},
     "output_type": "execute_result"
    }
   ],
   "source": [
    "visualize(V, Policy)"
   ]
  },
  {
   "cell_type": "code",
   "execution_count": 20,
   "metadata": {
    "id": "ZtZsHdox6IbR"
   },
   "outputs": [],
   "source": [
    "pi_delta = pd.read_csv(\"pi_delta.csv\")[\"accumulated_rewards\"].tolist()\n",
    "mcts_delta = pd.read_csv(\"mcts_delta.csv\")[\"accumulated_rewards\"].tolist()\n",
    "vi_delta = pd.read_csv(\"vi_delta.csv\")[\"accumulated_rewards\"].tolist()"
   ]
  },
  {
   "cell_type": "code",
   "execution_count": 23,
   "metadata": {
    "id": "rT0ncwwVXTUD"
   },
   "outputs": [],
   "source": [
    "from sklearn import preprocessing\n",
    "pi_delta_norm = preprocessing.normalize([pi_delta])\n",
    "vi_delta_norm = preprocessing.normalize([vi_delta])\n",
    "mcts_delta_norm = preprocessing.normalize([mcts_delta])"
   ]
  },
  {
   "cell_type": "code",
   "execution_count": 24,
   "metadata": {
    "id": "i0eA4dClVsOU"
   },
   "outputs": [],
   "source": [
    "n=100\n",
    "pi_delta_rew = [sum(pi_delta_norm[0][i:i+n])/n for i in range(0,len(pi_delta_norm[0]),n)]\n",
    "vi_delta_rew = [sum(vi_delta_norm[0][i:i+n])/n for i in range(0,len(vi_delta_norm[0]),n)]\n",
    "mcts_delta_rew = [sum(mcts_delta_norm[0][i:i+96*n])/96*n for i in range(0,len(mcts_delta_norm[0]),96*n)]"
   ]
  },
  {
   "cell_type": "code",
   "execution_count": 25,
   "metadata": {
    "colab": {
     "base_uri": "https://localhost:8080/",
     "height": 339
    },
    "id": "DUEXvEcUQAZU",
    "outputId": "c7bc2b9e-e58f-4168-eee8-23a8f003a087"
   },
   "outputs": [
    {
     "data": {
      "image/png": "[encoded data removed]",
      "text/plain": [
       "<Figure size 1440x432 with 3 Axes>"
      ]
     },
     "metadata": {
      "needs_background": "light"
     },
     "output_type": "display_data"
    }
   ],
   "source": [
    "fig, ((ax1, ax2, ax3)) = plt.subplots(ncols=3, figsize=(20,6))\n",
    "ax1.plot(vi_delta_rew)\n",
    "ax1.set_xlabel(\"Iterations\")\n",
    "ax1.set_ylabel(\"Delta\")\n",
    "ax1.set_title(\"Value Iteration\")\n",
    "\n",
    "ax2.plot(pi_delta_rew)\n",
    "ax2.set_xlabel(\"Iterations\")\n",
    "ax2.set_ylabel(\"Delta\")\n",
    "ax2.set_title(\"Policy Iteration\")\n",
    "\n",
    "ax3.plot(mcts_delta_rew)\n",
    "ax3.set_xlabel(\"Iterations\")\n",
    "ax3.set_ylabel(\"Delta\")\n",
    "ax3.set_title(\"Monte-Carlo Search Tree + Value Iteration\")\n",
    "plt.show()\n",
    "\n"
   ]
  },
  {
   "cell_type": "code",
   "execution_count": 26,
   "metadata": {
    "colab": {
     "base_uri": "https://localhost:8080/",
     "height": 514
    },
    "id": "uxr4qA0KYKOl",
    "outputId": "ddb3ca2c-d6e6-4a7b-d047-e4b1e27f5291"
   },
   "outputs": [
    {
     "data": {
      "text/plain": [
       "<matplotlib.legend.Legend at 0x148284b20>"
      ]
     },
     "execution_count": 26,
     "metadata": {},
     "output_type": "execute_result"
    },
    {
     "data": {
      "image/png": "[encoded data removed]",
      "text/plain": [
       "<Figure size 720x576 with 1 Axes>"
      ]
     },
     "metadata": {
      "needs_background": "light"
     },
     "output_type": "display_data"
    }
   ],
   "source": [
    "figs, axs = plt.subplots(figsize=(10,8))\n",
    "axs.plot(vi_delta_rew)\n",
    "axs.plot(pi_delta_rew)\n",
    "axs.set_xlabel(\"Iterations\")\n",
    "axs.set_ylabel(\"Delta\")\n",
    "# axs.plot(mcts_delta_rew)\n",
    "plt.legend(['Value iteration', 'Policy iteration'])"
   ]
  },
  {
   "cell_type": "code",
   "execution_count": 27,
   "metadata": {
    "id": "jktq9XCbagDW"
   },
   "outputs": [],
   "source": [
    "pi_acc = pd.read_csv(\"pi_accumulated_rewards.csv\")[\"accumulated_rewards\"].tolist()\n",
    "mcts_acc = pd.read_csv(\"mcts_accumulated_rewards.csv\")[\"accumulated_rewards\"].tolist()\n",
    "mcts_acc_rew = [sum(mcts_acc[i:i+20*n])/20*n for i in range(0,len(mcts_acc),20*n)]"
   ]
  },
  {
   "cell_type": "code",
   "execution_count": 28,
   "metadata": {
    "colab": {
     "base_uri": "https://localhost:8080/",
     "height": 404
    },
    "id": "i1sBmyuSjahi",
    "outputId": "baddd02c-1714-4df6-d3bd-7831dab5c972"
   },
   "outputs": [
    {
     "data": {
      "image/png": "[encoded data removed]",
      "text/plain": [
       "<Figure size 1080x432 with 2 Axes>"
      ]
     },
     "metadata": {
      "needs_background": "light"
     },
     "output_type": "display_data"
    }
   ],
   "source": [
    "fig, ((ax2, ax3)) = plt.subplots(ncols=2, figsize=(15,6))\n",
    "ax2.plot(pi_acc)\n",
    "ax2.set_xlabel(\"Iterations\")\n",
    "ax2.set_ylabel(\"Delta\")\n",
    "ax2.set_title(\"Policy Iteration\")\n",
    "\n",
    "ax3.plot(mcts_acc_rew)\n",
    "ax3.set_xlabel(\"Iterations\")\n",
    "ax3.set_ylabel(\"Delta\")\n",
    "ax3.set_title(\"Monte-Carlo Search Tree + Value Iteration\")\n",
    "plt.show()"
   ]
  },
  {
   "cell_type": "code",
   "execution_count": null,
   "metadata": {},
   "outputs": [],
   "source": []
  }
 ],
 "metadata": {
  "colab": {
   "collapsed_sections": [],
   "name": "MCTS+VI_8*8_FINAL.ipynb",
   "provenance": []
  },
  "kernelspec": {
   "display_name": "Python 3 (ipykernel)",
   "language": "python",
   "name": "python3"
  },
  "language_info": {
   "codemirror_mode": {
    "name": "ipython",
    "version": 3
   },
   "file_extension": ".py",
   "mimetype": "text/x-python",
   "name": "python",
   "nbconvert_exporter": "python",
   "pygments_lexer": "ipython3",
   "version": "3.9.8"
  },
  "widgets": {
   "application/vnd.jupyter.widget-state+json": {
    "0d54edd04fc14d94b3aadffe58036017": {
     "model_module": "@jupyter-widgets/controls",
     "model_module_version": "1.5.0",
     "model_name": "DescriptionStyleModel",
     "state": {
      "_model_module": "@jupyter-widgets/controls",
      "_model_module_version": "1.5.0",
      "_model_name": "DescriptionStyleModel",
      "_view_count": null,
      "_view_module": "@jupyter-widgets/base",
      "_view_module_version": "1.2.0",
      "_view_name": "StyleView",
      "description_width": ""
     }
    },
    "19e52c39d1b24916833eb2693f09b750": {
     "model_module": "@jupyter-widgets/controls",
     "model_module_version": "1.5.0",
     "model_name": "FloatProgressModel",
     "state": {
      "_dom_classes": [],
      "_model_module": "@jupyter-widgets/controls",
      "_model_module_version": "1.5.0",
      "_model_name": "FloatProgressModel",
      "_view_count": null,
      "_view_module": "@jupyter-widgets/controls",
      "_view_module_version": "1.5.0",
      "_view_name": "ProgressView",
      "bar_style": "success",
      "description": "",
      "description_tooltip": null,
      "layout": "IPY_MODEL_a7260544a54043ce8f42b4b0c430db4e",
      "max": 20000,
      "min": 0,
      "orientation": "horizontal",
      "style": "IPY_MODEL_9ff422421afe4b139090d06a4958ced0",
      "value": 20000
     }
    },
    "229c973e868d497fa33091df98ebae0b": {
     "model_module": "@jupyter-widgets/controls",
     "model_module_version": "1.5.0",
     "model_name": "HTMLModel",
     "state": {
      "_dom_classes": [],
      "_model_module": "@jupyter-widgets/controls",
      "_model_module_version": "1.5.0",
      "_model_name": "HTMLModel",
      "_view_count": null,
      "_view_module": "@jupyter-widgets/controls",
      "_view_module_version": "1.5.0",
      "_view_name": "HTMLView",
      "description": "",
      "description_tooltip": null,
      "layout": "IPY_MODEL_4ece6bc4628c46458ca0121f30e2fa0c",
      "placeholder": "​",
      "style": "IPY_MODEL_0d54edd04fc14d94b3aadffe58036017",
      "value": " 20000/20000 [24:11&lt;00:00,  6.66it/s]"
     }
    },
    "3f420f985e804739b5a49d549624196a": {
     "model_module": "@jupyter-widgets/controls",
     "model_module_version": "1.5.0",
     "model_name": "DescriptionStyleModel",
     "state": {
      "_model_module": "@jupyter-widgets/controls",
      "_model_module_version": "1.5.0",
      "_model_name": "DescriptionStyleModel",
      "_view_count": null,
      "_view_module": "@jupyter-widgets/base",
      "_view_module_version": "1.2.0",
      "_view_name": "StyleView",
      "description_width": ""
     }
    },
    "436351fe82994feea7e4854bbb2b9816": {
     "model_module": "@jupyter-widgets/base",
     "model_module_version": "1.2.0",
     "model_name": "LayoutModel",
     "state": {
      "_model_module": "@jupyter-widgets/base",
      "_model_module_version": "1.2.0",
      "_model_name": "LayoutModel",
      "_view_count": null,
      "_view_module": "@jupyter-widgets/base",
      "_view_module_version": "1.2.0",
      "_view_name": "LayoutView",
      "align_content": null,
      "align_items": null,
      "align_self": null,
      "border": null,
      "bottom": null,
      "display": null,
      "flex": null,
      "flex_flow": null,
      "grid_area": null,
      "grid_auto_columns": null,
      "grid_auto_flow": null,
      "grid_auto_rows": null,
      "grid_column": null,
      "grid_gap": null,
      "grid_row": null,
      "grid_template_areas": null,
      "grid_template_columns": null,
      "grid_template_rows": null,
      "height": null,
      "justify_content": null,
      "justify_items": null,
      "left": null,
      "margin": null,
      "max_height": null,
      "max_width": null,
      "min_height": null,
      "min_width": null,
      "object_fit": null,
      "object_position": null,
      "order": null,
      "overflow": null,
      "overflow_x": null,
      "overflow_y": null,
      "padding": null,
      "right": null,
      "top": null,
      "visibility": null,
      "width": null
     }
    },
    "4ece6bc4628c46458ca0121f30e2fa0c": {
     "model_module": "@jupyter-widgets/base",
     "model_module_version": "1.2.0",
     "model_name": "LayoutModel",
     "state": {
      "_model_module": "@jupyter-widgets/base",
      "_model_module_version": "1.2.0",
      "_model_name": "LayoutModel",
      "_view_count": null,
      "_view_module": "@jupyter-widgets/base",
      "_view_module_version": "1.2.0",
      "_view_name": "LayoutView",
      "align_content": null,
      "align_items": null,
      "align_self": null,
      "border": null,
      "bottom": null,
      "display": null,
      "flex": null,
      "flex_flow": null,
      "grid_area": null,
      "grid_auto_columns": null,
      "grid_auto_flow": null,
      "grid_auto_rows": null,
      "grid_column": null,
      "grid_gap": null,
      "grid_row": null,
      "grid_template_areas": null,
      "grid_template_columns": null,
      "grid_template_rows": null,
      "height": null,
      "justify_content": null,
      "justify_items": null,
      "left": null,
      "margin": null,
      "max_height": null,
      "max_width": null,
      "min_height": null,
      "min_width": null,
      "object_fit": null,
      "object_position": null,
      "order": null,
      "overflow": null,
      "overflow_x": null,
      "overflow_y": null,
      "padding": null,
      "right": null,
      "top": null,
      "visibility": null,
      "width": null
     }
    },
    "772d4d70207748faa66b3d514ec9b5f2": {
     "model_module": "@jupyter-widgets/controls",
     "model_module_version": "1.5.0",
     "model_name": "HBoxModel",
     "state": {
      "_dom_classes": [],
      "_model_module": "@jupyter-widgets/controls",
      "_model_module_version": "1.5.0",
      "_model_name": "HBoxModel",
      "_view_count": null,
      "_view_module": "@jupyter-widgets/controls",
      "_view_module_version": "1.5.0",
      "_view_name": "HBoxView",
      "box_style": "",
      "children": [
       "IPY_MODEL_80cef0ad213d4a1ab99f420132731ee7",
       "IPY_MODEL_19e52c39d1b24916833eb2693f09b750",
       "IPY_MODEL_229c973e868d497fa33091df98ebae0b"
      ],
      "layout": "IPY_MODEL_abd517306c6442c9840a69419a64e4bf"
     }
    },
    "80cef0ad213d4a1ab99f420132731ee7": {
     "model_module": "@jupyter-widgets/controls",
     "model_module_version": "1.5.0",
     "model_name": "HTMLModel",
     "state": {
      "_dom_classes": [],
      "_model_module": "@jupyter-widgets/controls",
      "_model_module_version": "1.5.0",
      "_model_name": "HTMLModel",
      "_view_count": null,
      "_view_module": "@jupyter-widgets/controls",
      "_view_module_version": "1.5.0",
      "_view_name": "HTMLView",
      "description": "",
      "description_tooltip": null,
      "layout": "IPY_MODEL_436351fe82994feea7e4854bbb2b9816",
      "placeholder": "​",
      "style": "IPY_MODEL_3f420f985e804739b5a49d549624196a",
      "value": "100%"
     }
    },
    "9ff422421afe4b139090d06a4958ced0": {
     "model_module": "@jupyter-widgets/controls",
     "model_module_version": "1.5.0",
     "model_name": "ProgressStyleModel",
     "state": {
      "_model_module": "@jupyter-widgets/controls",
      "_model_module_version": "1.5.0",
      "_model_name": "ProgressStyleModel",
      "_view_count": null,
      "_view_module": "@jupyter-widgets/base",
      "_view_module_version": "1.2.0",
      "_view_name": "StyleView",
      "bar_color": null,
      "description_width": ""
     }
    },
    "a7260544a54043ce8f42b4b0c430db4e": {
     "model_module": "@jupyter-widgets/base",
     "model_module_version": "1.2.0",
     "model_name": "LayoutModel",
     "state": {
      "_model_module": "@jupyter-widgets/base",
      "_model_module_version": "1.2.0",
      "_model_name": "LayoutModel",
      "_view_count": null,
      "_view_module": "@jupyter-widgets/base",
      "_view_module_version": "1.2.0",
      "_view_name": "LayoutView",
      "align_content": null,
      "align_items": null,
      "align_self": null,
      "border": null,
      "bottom": null,
      "display": null,
      "flex": null,
      "flex_flow": null,
      "grid_area": null,
      "grid_auto_columns": null,
      "grid_auto_flow": null,
      "grid_auto_rows": null,
      "grid_column": null,
      "grid_gap": null,
      "grid_row": null,
      "grid_template_areas": null,
      "grid_template_columns": null,
      "grid_template_rows": null,
      "height": null,
      "justify_content": null,
      "justify_items": null,
      "left": null,
      "margin": null,
      "max_height": null,
      "max_width": null,
      "min_height": null,
      "min_width": null,
      "object_fit": null,
      "object_position": null,
      "order": null,
      "overflow": null,
      "overflow_x": null,
      "overflow_y": null,
      "padding": null,
      "right": null,
      "top": null,
      "visibility": null,
      "width": null
     }
    },
    "abd517306c6442c9840a69419a64e4bf": {
     "model_module": "@jupyter-widgets/base",
     "model_module_version": "1.2.0",
     "model_name": "LayoutModel",
     "state": {
      "_model_module": "@jupyter-widgets/base",
      "_model_module_version": "1.2.0",
      "_model_name": "LayoutModel",
      "_view_count": null,
      "_view_module": "@jupyter-widgets/base",
      "_view_module_version": "1.2.0",
      "_view_name": "LayoutView",
      "align_content": null,
      "align_items": null,
      "align_self": null,
      "border": null,
      "bottom": null,
      "display": null,
      "flex": null,
      "flex_flow": null,
      "grid_area": null,
      "grid_auto_columns": null,
      "grid_auto_flow": null,
      "grid_auto_rows": null,
      "grid_column": null,
      "grid_gap": null,
      "grid_row": null,
      "grid_template_areas": null,
      "grid_template_columns": null,
      "grid_template_rows": null,
      "height": null,
      "justify_content": null,
      "justify_items": null,
      "left": null,
      "margin": null,
      "max_height": null,
      "max_width": null,
      "min_height": null,
      "min_width": null,
      "object_fit": null,
      "object_position": null,
      "order": null,
      "overflow": null,
      "overflow_x": null,
      "overflow_y": null,
      "padding": null,
      "right": null,
      "top": null,
      "visibility": null,
      "width": null
     }
    }
   }
  }
 },
 "nbformat": 4,
 "nbformat_minor": 4
}
